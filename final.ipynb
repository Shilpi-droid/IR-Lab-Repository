{
 "cells": [
  {
   "cell_type": "code",
   "execution_count": 1,
   "metadata": {},
   "outputs": [],
   "source": [
    "import pandas as pd\n",
    "from elasticsearch import Elasticsearch"
   ]
  },
  {
   "cell_type": "code",
   "execution_count": 2,
   "metadata": {},
   "outputs": [],
   "source": [
    "import numpy as np # linear algebra\n",
    "import pandas as pd # data processing, CSV file I/O (e.g. pd.read_csv)"
   ]
  },
  {
   "cell_type": "code",
   "execution_count": 118,
   "metadata": {},
   "outputs": [
    {
     "data": {
      "text/html": [
       "<div>\n",
       "<style scoped>\n",
       "    .dataframe tbody tr th:only-of-type {\n",
       "        vertical-align: middle;\n",
       "    }\n",
       "\n",
       "    .dataframe tbody tr th {\n",
       "        vertical-align: top;\n",
       "    }\n",
       "\n",
       "    .dataframe thead th {\n",
       "        text-align: right;\n",
       "    }\n",
       "</style>\n",
       "<table border=\"1\" class=\"dataframe\">\n",
       "  <thead>\n",
       "    <tr style=\"text-align: right;\">\n",
       "      <th></th>\n",
       "      <th>did</th>\n",
       "      <th>text</th>\n",
       "    </tr>\n",
       "  </thead>\n",
       "  <tbody>\n",
       "    <tr>\n",
       "      <th>0</th>\n",
       "      <td>1</td>\n",
       "      <td>&lt;DOC&gt;\\n&lt;DOCNO&gt;\\n1\\n&lt;/DOCNO&gt;\\n&lt;TITLE&gt;\\nexperime...</td>\n",
       "    </tr>\n",
       "    <tr>\n",
       "      <th>1</th>\n",
       "      <td>2</td>\n",
       "      <td>&lt;DOC&gt;\\n&lt;DOCNO&gt;\\n2\\n&lt;/DOCNO&gt;\\n&lt;TITLE&gt;\\nsimple s...</td>\n",
       "    </tr>\n",
       "    <tr>\n",
       "      <th>2</th>\n",
       "      <td>3</td>\n",
       "      <td>&lt;DOC&gt;\\n&lt;DOCNO&gt;\\n3\\n&lt;/DOCNO&gt;\\n&lt;TITLE&gt;\\nthe boun...</td>\n",
       "    </tr>\n",
       "    <tr>\n",
       "      <th>3</th>\n",
       "      <td>4</td>\n",
       "      <td>&lt;DOC&gt;\\n&lt;DOCNO&gt;\\n4\\n&lt;/DOCNO&gt;\\n&lt;TITLE&gt;\\napproxim...</td>\n",
       "    </tr>\n",
       "    <tr>\n",
       "      <th>4</th>\n",
       "      <td>5</td>\n",
       "      <td>&lt;DOC&gt;\\n&lt;DOCNO&gt;\\n5\\n&lt;/DOCNO&gt;\\n&lt;TITLE&gt;\\none-dime...</td>\n",
       "    </tr>\n",
       "  </tbody>\n",
       "</table>\n",
       "</div>"
      ],
      "text/plain": [
       "   did                                               text\n",
       "0    1  <DOC>\\n<DOCNO>\\n1\\n</DOCNO>\\n<TITLE>\\nexperime...\n",
       "1    2  <DOC>\\n<DOCNO>\\n2\\n</DOCNO>\\n<TITLE>\\nsimple s...\n",
       "2    3  <DOC>\\n<DOCNO>\\n3\\n</DOCNO>\\n<TITLE>\\nthe boun...\n",
       "3    4  <DOC>\\n<DOCNO>\\n4\\n</DOCNO>\\n<TITLE>\\napproxim...\n",
       "4    5  <DOC>\\n<DOCNO>\\n5\\n</DOCNO>\\n<TITLE>\\none-dime..."
      ]
     },
     "execution_count": 118,
     "metadata": {},
     "output_type": "execute_result"
    }
   ],
   "source": [
    "df = pd.read_csv(\"cranfield_data.csv\").loc[:1400]\n",
    "\n",
    "# df = df.drop(columns=[\"date\"])\n",
    "df.head()"
   ]
  },
  {
   "cell_type": "code",
   "execution_count": 4,
   "metadata": {},
   "outputs": [
    {
     "name": "stdout",
     "output_type": "stream",
     "text": [
      "Collecting sentence_transformers\n",
      "  Using cached sentence_transformers-2.2.2-py3-none-any.whl\n",
      "Requirement already satisfied: transformers<5.0.0,>=4.6.0 in c:\\python311\\lib\\site-packages (from sentence_transformers) (4.34.1)\n",
      "Requirement already satisfied: tqdm in c:\\python311\\lib\\site-packages (from sentence_transformers) (4.66.1)\n",
      "Requirement already satisfied: torch>=1.6.0 in c:\\python311\\lib\\site-packages (from sentence_transformers) (2.1.0)\n",
      "Requirement already satisfied: torchvision in c:\\python311\\lib\\site-packages (from sentence_transformers) (0.16.0)\n",
      "Requirement already satisfied: numpy in c:\\python311\\lib\\site-packages (from sentence_transformers) (1.26.0)\n",
      "Requirement already satisfied: scikit-learn in c:\\python311\\lib\\site-packages (from sentence_transformers) (1.3.2)\n",
      "Requirement already satisfied: scipy in c:\\python311\\lib\\site-packages (from sentence_transformers) (1.11.3)\n",
      "Requirement already satisfied: nltk in c:\\python311\\lib\\site-packages (from sentence_transformers) (3.8.1)\n",
      "Requirement already satisfied: sentencepiece in c:\\python311\\lib\\site-packages (from sentence_transformers) (0.1.99)\n",
      "Requirement already satisfied: huggingface-hub>=0.4.0 in c:\\python311\\lib\\site-packages (from sentence_transformers) (0.17.3)\n",
      "Requirement already satisfied: filelock in c:\\python311\\lib\\site-packages (from huggingface-hub>=0.4.0->sentence_transformers) (3.13.0)\n",
      "Requirement already satisfied: fsspec in c:\\python311\\lib\\site-packages (from huggingface-hub>=0.4.0->sentence_transformers) (2023.10.0)\n",
      "Requirement already satisfied: requests in c:\\python311\\lib\\site-packages (from huggingface-hub>=0.4.0->sentence_transformers) (2.31.0)\n",
      "Requirement already satisfied: pyyaml>=5.1 in c:\\users\\asus\\appdata\\roaming\\python\\python311\\site-packages (from huggingface-hub>=0.4.0->sentence_transformers) (6.0.1)\n",
      "Requirement already satisfied: typing-extensions>=3.7.4.3 in c:\\python311\\lib\\site-packages (from huggingface-hub>=0.4.0->sentence_transformers) (4.8.0)\n",
      "Requirement already satisfied: packaging>=20.9 in c:\\python311\\lib\\site-packages (from huggingface-hub>=0.4.0->sentence_transformers) (23.1)\n",
      "Requirement already satisfied: sympy in c:\\python311\\lib\\site-packages (from torch>=1.6.0->sentence_transformers) (1.12)\n",
      "Requirement already satisfied: networkx in c:\\python311\\lib\\site-packages (from torch>=1.6.0->sentence_transformers) (3.2.1)\n",
      "Requirement already satisfied: jinja2 in c:\\users\\asus\\appdata\\roaming\\python\\python311\\site-packages (from torch>=1.6.0->sentence_transformers) (3.1.2)\n",
      "Requirement already satisfied: colorama in c:\\python311\\lib\\site-packages (from tqdm->sentence_transformers) (0.4.6)\n",
      "Requirement already satisfied: regex!=2019.12.17 in c:\\python311\\lib\\site-packages (from transformers<5.0.0,>=4.6.0->sentence_transformers) (2023.10.3)\n",
      "Requirement already satisfied: tokenizers<0.15,>=0.14 in c:\\python311\\lib\\site-packages (from transformers<5.0.0,>=4.6.0->sentence_transformers) (0.14.1)\n",
      "Requirement already satisfied: safetensors>=0.3.1 in c:\\python311\\lib\\site-packages (from transformers<5.0.0,>=4.6.0->sentence_transformers) (0.4.0)\n",
      "Requirement already satisfied: click in c:\\python311\\lib\\site-packages (from nltk->sentence_transformers) (8.1.7)\n",
      "Requirement already satisfied: joblib in c:\\python311\\lib\\site-packages (from nltk->sentence_transformers) (1.3.2)\n",
      "Requirement already satisfied: threadpoolctl>=2.0.0 in c:\\python311\\lib\\site-packages (from scikit-learn->sentence_transformers) (3.2.0)\n",
      "Requirement already satisfied: pillow!=8.3.*,>=5.3.0 in c:\\python311\\lib\\site-packages (from torchvision->sentence_transformers) (10.0.1)\n",
      "Requirement already satisfied: MarkupSafe>=2.0 in c:\\users\\asus\\appdata\\roaming\\python\\python311\\site-packages (from jinja2->torch>=1.6.0->sentence_transformers) (2.1.3)\n",
      "Requirement already satisfied: charset-normalizer<4,>=2 in c:\\python311\\lib\\site-packages (from requests->huggingface-hub>=0.4.0->sentence_transformers) (3.3.1)\n",
      "Requirement already satisfied: idna<4,>=2.5 in c:\\python311\\lib\\site-packages (from requests->huggingface-hub>=0.4.0->sentence_transformers) (3.4)\n",
      "Requirement already satisfied: urllib3<3,>=1.21.1 in c:\\python311\\lib\\site-packages (from requests->huggingface-hub>=0.4.0->sentence_transformers) (1.26.18)\n",
      "Requirement already satisfied: certifi>=2017.4.17 in c:\\python311\\lib\\site-packages (from requests->huggingface-hub>=0.4.0->sentence_transformers) (2023.7.22)\n",
      "Requirement already satisfied: mpmath>=0.19 in c:\\python311\\lib\\site-packages (from sympy->torch>=1.6.0->sentence_transformers) (1.3.0)\n",
      "Installing collected packages: sentence_transformers\n",
      "Successfully installed sentence_transformers-2.2.2\n",
      "Note: you may need to restart the kernel to use updated packages.\n"
     ]
    },
    {
     "name": "stderr",
     "output_type": "stream",
     "text": [
      "\n",
      "[notice] A new release of pip is available: 23.1.2 -> 23.3.1\n",
      "[notice] To update, run: python.exe -m pip install --upgrade pip\n"
     ]
    }
   ],
   "source": [
    "%pip install -U sentence_transformers"
   ]
  },
  {
   "cell_type": "code",
   "execution_count": 5,
   "metadata": {},
   "outputs": [
    {
     "data": {
      "application/vnd.jupyter.widget-view+json": {
       "model_id": "ad7e31f19ea64da8a3b371088a17738f",
       "version_major": 2,
       "version_minor": 0
      },
      "text/plain": [
       "Downloading (…)a8e1d/.gitattributes:   0%|          | 0.00/1.18k [00:00<?, ?B/s]"
      ]
     },
     "metadata": {},
     "output_type": "display_data"
    },
    {
     "data": {
      "application/vnd.jupyter.widget-view+json": {
       "model_id": "47b8609e666c4d5eb2e0d11f8a4051bf",
       "version_major": 2,
       "version_minor": 0
      },
      "text/plain": [
       "Downloading (…)_Pooling/config.json:   0%|          | 0.00/190 [00:00<?, ?B/s]"
      ]
     },
     "metadata": {},
     "output_type": "display_data"
    },
    {
     "data": {
      "application/vnd.jupyter.widget-view+json": {
       "model_id": "65bbd5c748134dd1a8066136bde15b18",
       "version_major": 2,
       "version_minor": 0
      },
      "text/plain": [
       "Downloading (…)b20bca8e1d/README.md:   0%|          | 0.00/10.6k [00:00<?, ?B/s]"
      ]
     },
     "metadata": {},
     "output_type": "display_data"
    },
    {
     "data": {
      "application/vnd.jupyter.widget-view+json": {
       "model_id": "371e96cbdefe4f148a4dfea74a9127f9",
       "version_major": 2,
       "version_minor": 0
      },
      "text/plain": [
       "Downloading (…)0bca8e1d/config.json:   0%|          | 0.00/571 [00:00<?, ?B/s]"
      ]
     },
     "metadata": {},
     "output_type": "display_data"
    },
    {
     "data": {
      "application/vnd.jupyter.widget-view+json": {
       "model_id": "5ab10ec8aab145cc84c9c1d9c131bae2",
       "version_major": 2,
       "version_minor": 0
      },
      "text/plain": [
       "Downloading (…)ce_transformers.json:   0%|          | 0.00/116 [00:00<?, ?B/s]"
      ]
     },
     "metadata": {},
     "output_type": "display_data"
    },
    {
     "data": {
      "application/vnd.jupyter.widget-view+json": {
       "model_id": "8bc15f0a7b1d4f76bdd18e2bde9db50d",
       "version_major": 2,
       "version_minor": 0
      },
      "text/plain": [
       "Downloading (…)e1d/data_config.json:   0%|          | 0.00/39.3k [00:00<?, ?B/s]"
      ]
     },
     "metadata": {},
     "output_type": "display_data"
    },
    {
     "data": {
      "application/vnd.jupyter.widget-view+json": {
       "model_id": "68f4eb82efc24ec1a5f25c89f26ffe9f",
       "version_major": 2,
       "version_minor": 0
      },
      "text/plain": [
       "Downloading pytorch_model.bin:   0%|          | 0.00/438M [00:00<?, ?B/s]"
      ]
     },
     "metadata": {},
     "output_type": "display_data"
    },
    {
     "data": {
      "application/vnd.jupyter.widget-view+json": {
       "model_id": "be2a39d4732947d1b4dd776825d2dfd0",
       "version_major": 2,
       "version_minor": 0
      },
      "text/plain": [
       "Downloading (…)nce_bert_config.json:   0%|          | 0.00/53.0 [00:00<?, ?B/s]"
      ]
     },
     "metadata": {},
     "output_type": "display_data"
    },
    {
     "data": {
      "application/vnd.jupyter.widget-view+json": {
       "model_id": "a16a58b1059a41ccbfb9598145e88c0b",
       "version_major": 2,
       "version_minor": 0
      },
      "text/plain": [
       "Downloading (…)cial_tokens_map.json:   0%|          | 0.00/239 [00:00<?, ?B/s]"
      ]
     },
     "metadata": {},
     "output_type": "display_data"
    },
    {
     "data": {
      "application/vnd.jupyter.widget-view+json": {
       "model_id": "367d5c01bb334e7cb35fbb30ff0dd2f3",
       "version_major": 2,
       "version_minor": 0
      },
      "text/plain": [
       "Downloading (…)a8e1d/tokenizer.json:   0%|          | 0.00/466k [00:00<?, ?B/s]"
      ]
     },
     "metadata": {},
     "output_type": "display_data"
    },
    {
     "data": {
      "application/vnd.jupyter.widget-view+json": {
       "model_id": "ddd2f78786f84a0f93123caf5782650a",
       "version_major": 2,
       "version_minor": 0
      },
      "text/plain": [
       "Downloading (…)okenizer_config.json:   0%|          | 0.00/363 [00:00<?, ?B/s]"
      ]
     },
     "metadata": {},
     "output_type": "display_data"
    },
    {
     "data": {
      "application/vnd.jupyter.widget-view+json": {
       "model_id": "d09aec488935492db39f36f40a99e132",
       "version_major": 2,
       "version_minor": 0
      },
      "text/plain": [
       "Downloading (…)8e1d/train_script.py:   0%|          | 0.00/13.1k [00:00<?, ?B/s]"
      ]
     },
     "metadata": {},
     "output_type": "display_data"
    },
    {
     "data": {
      "application/vnd.jupyter.widget-view+json": {
       "model_id": "fe2cb1a15a0d433ba37679a7aae012dd",
       "version_major": 2,
       "version_minor": 0
      },
      "text/plain": [
       "Downloading (…)b20bca8e1d/vocab.txt:   0%|          | 0.00/232k [00:00<?, ?B/s]"
      ]
     },
     "metadata": {},
     "output_type": "display_data"
    },
    {
     "data": {
      "application/vnd.jupyter.widget-view+json": {
       "model_id": "e895dcb0a95d4735a09c9832b38acb06",
       "version_major": 2,
       "version_minor": 0
      },
      "text/plain": [
       "Downloading (…)bca8e1d/modules.json:   0%|          | 0.00/349 [00:00<?, ?B/s]"
      ]
     },
     "metadata": {},
     "output_type": "display_data"
    }
   ],
   "source": [
    "from sentence_transformers import SentenceTransformer\n",
    "model = SentenceTransformer('all-mpnet-base-v2')"
   ]
  },
  {
   "cell_type": "code",
   "execution_count": 6,
   "metadata": {},
   "outputs": [
    {
     "name": "stdout",
     "output_type": "stream",
     "text": [
      "Requirement already satisfied: elasticsearch in c:\\python311\\lib\\site-packages (8.10.1)\n",
      "Requirement already satisfied: elastic-transport<9,>=8 in c:\\python311\\lib\\site-packages (from elasticsearch) (8.4.1)\n",
      "Requirement already satisfied: urllib3<2,>=1.26.2 in c:\\python311\\lib\\site-packages (from elastic-transport<9,>=8->elasticsearch) (1.26.18)\n",
      "Requirement already satisfied: certifi in c:\\python311\\lib\\site-packages (from elastic-transport<9,>=8->elasticsearch) (2023.7.22)\n",
      "Note: you may need to restart the kernel to use updated packages.\n"
     ]
    },
    {
     "name": "stderr",
     "output_type": "stream",
     "text": [
      "\n",
      "[notice] A new release of pip is available: 23.1.2 -> 23.3.1\n",
      "[notice] To update, run: python.exe -m pip install --upgrade pip\n"
     ]
    }
   ],
   "source": [
    "%pip install elasticsearch"
   ]
  },
  {
   "cell_type": "code",
   "execution_count": 20,
   "metadata": {},
   "outputs": [
    {
     "name": "stdout",
     "output_type": "stream",
     "text": [
      "Requirement already satisfied: nltk in c:\\python311\\lib\\site-packages (3.8.1)\n",
      "Requirement already satisfied: click in c:\\python311\\lib\\site-packages (from nltk) (8.1.7)\n",
      "Requirement already satisfied: joblib in c:\\python311\\lib\\site-packages (from nltk) (1.3.2)\n",
      "Requirement already satisfied: regex>=2021.8.3 in c:\\python311\\lib\\site-packages (from nltk) (2023.10.3)\n",
      "Requirement already satisfied: tqdm in c:\\python311\\lib\\site-packages (from nltk) (4.66.1)\n",
      "Requirement already satisfied: colorama in c:\\python311\\lib\\site-packages (from click->nltk) (0.4.6)\n",
      "Note: you may need to restart the kernel to use updated packages.\n"
     ]
    },
    {
     "name": "stderr",
     "output_type": "stream",
     "text": [
      "\n",
      "[notice] A new release of pip is available: 23.1.2 -> 23.3.1\n",
      "[notice] To update, run: python.exe -m pip install --upgrade pip\n"
     ]
    }
   ],
   "source": [
    "%pip install nltk"
   ]
  },
  {
   "cell_type": "code",
   "execution_count": 21,
   "metadata": {},
   "outputs": [],
   "source": [
    "import pandas as pd\n",
    "import nltk\n",
    "from nltk.corpus import stopwords\n",
    "from nltk.tokenize import word_tokenize\n",
    "from nltk.stem import PorterStemmer\n",
    "from nltk.corpus import wordnet\n",
    "from nltk.stem import WordNetLemmatizer\n",
    "import string\n",
    "\n",
    "# Assuming you've already loaded your DataFrame 'df'\n",
    "\n",
    "\n"
   ]
  },
  {
   "cell_type": "code",
   "execution_count": 25,
   "metadata": {},
   "outputs": [
    {
     "name": "stderr",
     "output_type": "stream",
     "text": [
      "[nltk_data] Downloading package wordnet to\n",
      "[nltk_data]     C:\\Users\\asus\\AppData\\Roaming\\nltk_data...\n"
     ]
    },
    {
     "data": {
      "text/plain": [
       "True"
      ]
     },
     "execution_count": 25,
     "metadata": {},
     "output_type": "execute_result"
    }
   ],
   "source": [
    "nltk.download('wordnet')"
   ]
  },
  {
   "cell_type": "code",
   "execution_count": 27,
   "metadata": {},
   "outputs": [
    {
     "name": "stderr",
     "output_type": "stream",
     "text": [
      "[nltk_data] Downloading package stopwords to\n",
      "[nltk_data]     C:\\Users\\asus\\AppData\\Roaming\\nltk_data...\n",
      "[nltk_data]   Unzipping corpora\\stopwords.zip.\n"
     ]
    },
    {
     "data": {
      "text/plain": [
       "True"
      ]
     },
     "execution_count": 27,
     "metadata": {},
     "output_type": "execute_result"
    }
   ],
   "source": [
    "nltk.download('stopwords')"
   ]
  },
  {
   "cell_type": "code",
   "execution_count": 29,
   "metadata": {},
   "outputs": [
    {
     "name": "stderr",
     "output_type": "stream",
     "text": [
      "[nltk_data] Downloading package punkt to\n",
      "[nltk_data]     C:\\Users\\asus\\AppData\\Roaming\\nltk_data...\n",
      "[nltk_data]   Unzipping tokenizers\\punkt.zip.\n"
     ]
    },
    {
     "data": {
      "text/plain": [
       "True"
      ]
     },
     "execution_count": 29,
     "metadata": {},
     "output_type": "execute_result"
    }
   ],
   "source": [
    "nltk.download('punkt')"
   ]
  },
  {
   "cell_type": "code",
   "execution_count": 119,
   "metadata": {},
   "outputs": [],
   "source": [
    "# 1. Lowercase all text\n",
    "df['text'] = df['text'].str.lower()\n",
    "\n",
    "# 2. Remove punctuation\n",
    "df['text'] = df['text'].apply(lambda text: text.translate(str.maketrans('', '', string.punctuation)))\n",
    "\n",
    "# 3. Tokenization\n",
    "df['text'] = df['text'].apply(lambda text: word_tokenize(text))\n",
    "\n",
    "# 4. Stopword removal\n",
    "\n",
    "stop_words = set(stopwords.words('english'))\n",
    "df['text'] = df['text'].apply(lambda tokens: [word for word in tokens if word not in stop_words])\n",
    "\n",
    "# 5. Stemming (optional)\n",
    "# stemmer = PorterStemmer()\n",
    "# df['text'] = df['text'].apply(lambda tokens: [stemmer.stem(word) for word in tokens])\n",
    "\n",
    "# 6. Lemmatization\n",
    "\n",
    "lemmatizer = WordNetLemmatizer()\n",
    "df['text'] = df['text'].apply(lambda tokens: [lemmatizer.lemmatize(word, wordnet.VERB) for word in tokens])\n",
    "\n",
    "# You can add additional steps based on your specific requirements like removing digits, handling special characters, etc.\n",
    "\n",
    "# Now, df['text'] contains preprocessed text data\n",
    "\n",
    "# Optionally, if you want to join the list of tokens back to a string:\n",
    "df['text'] = df['text'].apply(lambda tokens: ' '.join(tokens))\n",
    "\n",
    "# You can access the preprocessed text using df['text']"
   ]
  },
  {
   "cell_type": "code",
   "execution_count": 120,
   "metadata": {},
   "outputs": [
    {
     "data": {
      "text/html": [
       "<div>\n",
       "<style scoped>\n",
       "    .dataframe tbody tr th:only-of-type {\n",
       "        vertical-align: middle;\n",
       "    }\n",
       "\n",
       "    .dataframe tbody tr th {\n",
       "        vertical-align: top;\n",
       "    }\n",
       "\n",
       "    .dataframe thead th {\n",
       "        text-align: right;\n",
       "    }\n",
       "</style>\n",
       "<table border=\"1\" class=\"dataframe\">\n",
       "  <thead>\n",
       "    <tr style=\"text-align: right;\">\n",
       "      <th></th>\n",
       "      <th>did</th>\n",
       "      <th>text</th>\n",
       "    </tr>\n",
       "  </thead>\n",
       "  <tbody>\n",
       "    <tr>\n",
       "      <th>0</th>\n",
       "      <td>1</td>\n",
       "      <td>doc docno 1 docno title experimental investiga...</td>\n",
       "    </tr>\n",
       "    <tr>\n",
       "      <th>1</th>\n",
       "      <td>2</td>\n",
       "      <td>doc docno 2 docno title simple shear flow past...</td>\n",
       "    </tr>\n",
       "    <tr>\n",
       "      <th>2</th>\n",
       "      <td>3</td>\n",
       "      <td>doc docno 3 docno title boundary layer simple ...</td>\n",
       "    </tr>\n",
       "    <tr>\n",
       "      <th>3</th>\n",
       "      <td>4</td>\n",
       "      <td>doc docno 4 docno title approximate solutions ...</td>\n",
       "    </tr>\n",
       "    <tr>\n",
       "      <th>4</th>\n",
       "      <td>5</td>\n",
       "      <td>doc docno 5 docno title onedimensional transie...</td>\n",
       "    </tr>\n",
       "  </tbody>\n",
       "</table>\n",
       "</div>"
      ],
      "text/plain": [
       "   did                                               text\n",
       "0    1  doc docno 1 docno title experimental investiga...\n",
       "1    2  doc docno 2 docno title simple shear flow past...\n",
       "2    3  doc docno 3 docno title boundary layer simple ...\n",
       "3    4  doc docno 4 docno title approximate solutions ...\n",
       "4    5  doc docno 5 docno title onedimensional transie..."
      ]
     },
     "execution_count": 120,
     "metadata": {},
     "output_type": "execute_result"
    }
   ],
   "source": [
    "df.head()"
   ]
  },
  {
   "cell_type": "code",
   "execution_count": 121,
   "metadata": {},
   "outputs": [],
   "source": [
    "df['TextDescVec'] = df['text'].apply(lambda x: model.encode(x))"
   ]
  },
  {
   "cell_type": "code",
   "execution_count": 123,
   "metadata": {},
   "outputs": [
    {
     "data": {
      "text/plain": [
       "2    [-0.054535493, -0.093620025, -0.0067776158, 0....\n",
       "3    [-0.01989528, -0.0637047, -0.015166364, 0.0186...\n",
       "4    [-0.040642917, -0.070754275, -0.012006386, 0.0...\n",
       "Name: TextDescVec, dtype: object"
      ]
     },
     "execution_count": 123,
     "metadata": {},
     "output_type": "execute_result"
    }
   ],
   "source": [
    "df.head()[\"TextDescVec\"][2:5]"
   ]
  },
  {
   "cell_type": "code",
   "execution_count": 122,
   "metadata": {},
   "outputs": [
    {
     "data": {
      "text/html": [
       "<div>\n",
       "<style scoped>\n",
       "    .dataframe tbody tr th:only-of-type {\n",
       "        vertical-align: middle;\n",
       "    }\n",
       "\n",
       "    .dataframe tbody tr th {\n",
       "        vertical-align: top;\n",
       "    }\n",
       "\n",
       "    .dataframe thead th {\n",
       "        text-align: right;\n",
       "    }\n",
       "</style>\n",
       "<table border=\"1\" class=\"dataframe\">\n",
       "  <thead>\n",
       "    <tr style=\"text-align: right;\">\n",
       "      <th></th>\n",
       "      <th>did</th>\n",
       "      <th>text</th>\n",
       "      <th>TextDescVec</th>\n",
       "    </tr>\n",
       "  </thead>\n",
       "  <tbody>\n",
       "    <tr>\n",
       "      <th>0</th>\n",
       "      <td>1</td>\n",
       "      <td>doc docno 1 docno title experimental investiga...</td>\n",
       "      <td>[-0.04606612, -0.071796134, 0.008342809, 0.031...</td>\n",
       "    </tr>\n",
       "    <tr>\n",
       "      <th>1</th>\n",
       "      <td>2</td>\n",
       "      <td>doc docno 2 docno title simple shear flow past...</td>\n",
       "      <td>[-0.025661957, -0.07951855, 0.01750628, 0.0007...</td>\n",
       "    </tr>\n",
       "    <tr>\n",
       "      <th>2</th>\n",
       "      <td>3</td>\n",
       "      <td>doc docno 3 docno title boundary layer simple ...</td>\n",
       "      <td>[-0.054535493, -0.093620025, -0.0067776158, 0....</td>\n",
       "    </tr>\n",
       "    <tr>\n",
       "      <th>3</th>\n",
       "      <td>4</td>\n",
       "      <td>doc docno 4 docno title approximate solutions ...</td>\n",
       "      <td>[-0.01989528, -0.0637047, -0.015166364, 0.0186...</td>\n",
       "    </tr>\n",
       "    <tr>\n",
       "      <th>4</th>\n",
       "      <td>5</td>\n",
       "      <td>doc docno 5 docno title onedimensional transie...</td>\n",
       "      <td>[-0.040642917, -0.070754275, -0.012006386, 0.0...</td>\n",
       "    </tr>\n",
       "  </tbody>\n",
       "</table>\n",
       "</div>"
      ],
      "text/plain": [
       "   did                                               text  \\\n",
       "0    1  doc docno 1 docno title experimental investiga...   \n",
       "1    2  doc docno 2 docno title simple shear flow past...   \n",
       "2    3  doc docno 3 docno title boundary layer simple ...   \n",
       "3    4  doc docno 4 docno title approximate solutions ...   \n",
       "4    5  doc docno 5 docno title onedimensional transie...   \n",
       "\n",
       "                                         TextDescVec  \n",
       "0  [-0.04606612, -0.071796134, 0.008342809, 0.031...  \n",
       "1  [-0.025661957, -0.07951855, 0.01750628, 0.0007...  \n",
       "2  [-0.054535493, -0.093620025, -0.0067776158, 0....  \n",
       "3  [-0.01989528, -0.0637047, -0.015166364, 0.0186...  \n",
       "4  [-0.040642917, -0.070754275, -0.012006386, 0.0...  "
      ]
     },
     "execution_count": 122,
     "metadata": {},
     "output_type": "execute_result"
    }
   ],
   "source": [
    "df.head()"
   ]
  },
  {
   "cell_type": "code",
   "execution_count": 11,
   "metadata": {},
   "outputs": [
    {
     "name": "stdout",
     "output_type": "stream",
     "text": [
      "True\n"
     ]
    }
   ],
   "source": [
    "from elasticsearch import Elasticsearch\n",
    "\n"
   ]
  },
  {
   "cell_type": "code",
   "execution_count": 130,
   "metadata": {},
   "outputs": [
    {
     "name": "stdout",
     "output_type": "stream",
     "text": [
      "True\n"
     ]
    }
   ],
   "source": [
    "\n",
    "es = Elasticsearch(\"http://localhost:9200/\")\n",
    "print(es.ping())"
   ]
  },
  {
   "cell_type": "code",
   "execution_count": 175,
   "metadata": {},
   "outputs": [
    {
     "data": {
      "text/plain": [
       "ObjectApiResponse({'acknowledged': True, 'shards_acknowledged': True, 'index': 'prefinal_try5'})"
      ]
     },
     "execution_count": 175,
     "metadata": {},
     "output_type": "execute_result"
    }
   ],
   "source": [
    "from index_test import indexMapping\n",
    "es.indices.create(index=\"prefinal_try5\", mappings=indexMapping)"
   ]
  },
  {
   "cell_type": "code",
   "execution_count": 176,
   "metadata": {},
   "outputs": [
    {
     "name": "stdout",
     "output_type": "stream",
     "text": [
      "{'did': 1, 'text': 'doc docno 1 docno title experimental investigation aerodynamics wing slipstream title author brenckmanm author biblio j ae scs 25 1958 324 biblio text experimental study wing propeller slipstream make order determine spanwise distribution lift increase due slipstream different angle attack wing different free stream slipstream velocity ratios result intend part evaluation basis different theoretical treatments problem comparative span load curve together support evidence show substantial part lift increment produce slipstream due destalling boundarylayercontrol effect integrate remain lift increment subtract destalling lift find agree well potential flow theory empirical evaluation destalling effect make specific configuration experiment text doc', 'TextDescVec': array([-4.60661203e-02, -7.17961341e-02,  8.34280904e-03,  3.13953944e-02,\n",
      "       -5.46971634e-02, -5.00987619e-02, -6.30373554e-03,  1.31950499e-02,\n",
      "       -6.31702691e-02, -1.55763719e-02,  5.10438941e-02,  1.98713262e-02,\n",
      "        7.13443533e-02,  3.26453894e-02,  4.74384800e-02, -6.05505072e-02,\n",
      "       -3.00845485e-02,  4.44301628e-02, -3.30766663e-02,  7.71312462e-03,\n",
      "       -3.18185845e-03, -7.97357038e-03, -2.00114306e-02,  3.80222239e-02,\n",
      "        3.65655422e-02,  3.79078127e-02, -3.71977203e-02, -4.56023738e-02,\n",
      "        2.18503177e-02, -2.78093349e-02,  6.38601854e-02,  6.53760359e-02,\n",
      "        3.88854966e-02,  6.83239624e-02,  2.12439841e-06, -8.17114394e-03,\n",
      "        5.93435913e-02,  1.31846620e-02, -9.50479321e-03,  3.06616183e-02,\n",
      "        7.08686784e-02, -1.46821281e-02,  8.32901523e-03, -1.90082509e-02,\n",
      "        3.20633240e-02, -2.85821464e-02, -6.34814575e-02, -1.13852331e-02,\n",
      "       -2.27147732e-02, -5.75101236e-03, -1.88396387e-02, -2.33215895e-02,\n",
      "       -2.96270140e-02, -5.21323457e-03,  5.87432384e-02, -5.56310751e-02,\n",
      "       -1.32824015e-02, -3.25622484e-02,  7.85353332e-05, -2.57262904e-02,\n",
      "       -3.36723104e-02,  7.36676110e-03,  2.99327727e-03, -1.37991877e-02,\n",
      "       -2.22637262e-02,  1.88184087e-03, -8.08313489e-02, -2.42525302e-02,\n",
      "       -4.02598828e-03,  2.09635738e-02,  3.06012109e-02, -1.38685303e-02,\n",
      "       -4.79082437e-03, -3.65613401e-02,  4.15010098e-03,  6.55396953e-02,\n",
      "        3.00598443e-02, -1.72666349e-02, -9.21505131e-03, -4.57111709e-02,\n",
      "        5.69793163e-03, -3.21764536e-02, -2.63184402e-03, -4.58216555e-02,\n",
      "        2.16197670e-02,  3.23747806e-02, -3.59693840e-02, -1.42097136e-03,\n",
      "        4.38152254e-02, -8.82010534e-03,  5.67102320e-02, -3.69779766e-02,\n",
      "        1.26485648e-02, -2.42887661e-02,  3.42653133e-02,  3.24864015e-02,\n",
      "        4.36035357e-02, -1.06801175e-01,  5.53809963e-02, -9.64374021e-02,\n",
      "        9.03329477e-02, -3.55485491e-02, -9.10528749e-03, -1.29149267e-02,\n",
      "       -7.12030977e-02,  6.63687754e-03, -2.03785114e-02,  7.12333843e-02,\n",
      "        2.81703961e-03,  5.86376339e-02, -2.70072166e-02, -3.25326435e-02,\n",
      "        3.17318328e-02,  4.84774970e-02, -7.82585219e-02,  1.72203314e-02,\n",
      "       -2.31335592e-02, -5.06959110e-03,  1.57327894e-02, -1.05190370e-02,\n",
      "        2.71492545e-02, -2.21833009e-02,  5.20724691e-02, -2.35313710e-04,\n",
      "       -1.50155518e-02,  1.15070790e-02,  5.86870462e-02,  1.08099934e-02,\n",
      "        1.19067598e-02,  2.14642920e-02,  9.18104779e-03,  2.81528812e-02,\n",
      "       -5.07191457e-02, -1.92228686e-02, -5.07771932e-02,  3.53012457e-02,\n",
      "       -2.69085970e-02,  4.28242646e-02, -2.05654837e-02,  1.57748198e-03,\n",
      "        4.21413966e-02,  6.58833282e-03, -4.40632273e-03, -4.16237488e-02,\n",
      "        2.39048433e-02,  2.86969524e-02,  8.58891476e-03,  1.64270066e-02,\n",
      "        2.09450703e-02, -2.50653420e-02, -9.78040742e-04,  3.02165728e-02,\n",
      "       -5.76939201e-03,  5.08649573e-02,  6.08520024e-03,  3.95707004e-02,\n",
      "       -9.42101479e-02,  4.28836122e-02, -3.41551416e-02, -9.92142595e-03,\n",
      "       -3.25414874e-02, -5.40947057e-02,  5.60981855e-02,  1.60962707e-04,\n",
      "        2.36615334e-02, -8.21914431e-03, -7.15685859e-02, -8.04754626e-03,\n",
      "        1.30678406e-02, -4.36975574e-03,  9.24715679e-03, -5.50950430e-02,\n",
      "       -6.06039353e-03,  4.12050411e-02,  1.68350562e-02, -6.82981089e-02,\n",
      "       -5.37693035e-03,  4.92709354e-02,  1.64592136e-02,  4.03963104e-02,\n",
      "        1.28278164e-02, -1.89921688e-02, -1.09693632e-02, -4.71640341e-02,\n",
      "       -1.12960171e-02, -6.59625372e-03, -4.69512753e-02, -3.22816670e-02,\n",
      "       -1.50435476e-03, -2.40822472e-02, -2.36520600e-02,  5.69940032e-03,\n",
      "       -3.25009925e-03,  3.98119949e-02, -1.88206267e-02,  5.74842393e-02,\n",
      "       -5.05826157e-03,  4.31357585e-02, -1.95651990e-03,  2.09271591e-02,\n",
      "       -1.81413628e-02,  6.01945398e-03,  5.13177877e-03,  1.23789422e-02,\n",
      "       -1.15749128e-02, -2.64912397e-02, -1.67998392e-02,  2.17797961e-02,\n",
      "        1.61292329e-02, -1.48690259e-02,  6.59245178e-02, -5.01793763e-03,\n",
      "        4.84415367e-02,  5.47664091e-02,  4.38273177e-02,  1.93176251e-02,\n",
      "       -1.11165391e-02,  4.95878272e-02, -3.21190394e-02, -3.39014828e-02,\n",
      "        1.19725633e-02, -3.38121504e-02, -8.77905115e-02,  1.50142200e-02,\n",
      "        5.52681312e-02,  5.22123538e-02,  1.49695901e-02, -6.20418340e-02,\n",
      "       -4.42243693e-03,  1.86945871e-02,  4.74355035e-02, -3.77489813e-02,\n",
      "        4.16937703e-03, -1.00697512e-02, -9.38861817e-02,  8.60533398e-03,\n",
      "        6.05253465e-02, -2.84966119e-02,  6.90746540e-03,  5.66750625e-03,\n",
      "        2.63605476e-03,  4.81280051e-02,  4.27130237e-03, -2.14014761e-02,\n",
      "       -2.17230152e-02,  5.89308105e-02,  2.84960605e-02,  7.92386942e-03,\n",
      "        4.55980189e-02, -2.07028612e-02, -2.74564326e-02,  1.39542287e-02,\n",
      "        7.61010358e-03,  1.62023753e-02,  6.06215224e-02, -2.85703298e-02,\n",
      "        6.00940101e-02, -2.87155658e-02,  1.63345281e-02, -3.28898765e-02,\n",
      "        2.59220693e-02, -1.90507919e-02,  1.72124617e-02,  2.05654260e-02,\n",
      "        1.51712419e-02, -2.49282941e-02,  1.48466751e-02,  2.51288712e-02,\n",
      "       -1.54440501e-03,  3.82253416e-02, -4.41144742e-02, -5.16607240e-02,\n",
      "       -1.70673225e-02, -2.26271786e-02,  2.36612260e-02, -2.87293922e-02,\n",
      "       -3.52719463e-02, -1.70856509e-02, -4.33421396e-02,  3.12960893e-02,\n",
      "       -8.74332990e-03, -2.98653003e-02, -3.42338420e-02,  1.77758536e-03,\n",
      "        1.62320957e-02,  2.27103233e-02,  4.45881858e-02,  3.37914489e-02,\n",
      "       -3.01022492e-02,  3.62996086e-02, -5.16287386e-02, -5.71224019e-02,\n",
      "        2.66855839e-03, -7.31579494e-04, -1.89894568e-02,  2.36365534e-02,\n",
      "        9.68150049e-03, -1.53827872e-02,  1.56490598e-02,  3.68830189e-02,\n",
      "       -3.12943645e-02,  7.27924481e-02, -3.50958481e-02, -3.93880624e-03,\n",
      "        4.18995600e-03,  9.41986404e-03,  2.82231737e-02,  5.01455776e-02,\n",
      "       -1.32617494e-02, -6.95489421e-02, -2.34466419e-02,  5.01011917e-03,\n",
      "       -3.00707500e-02, -1.34647905e-03,  1.63359139e-02,  6.67676283e-03,\n",
      "        2.13365741e-02, -1.29441768e-02,  1.72354206e-02,  3.78703587e-02,\n",
      "        3.32708092e-04, -3.21753789e-03, -2.37903725e-02,  1.23140213e-04,\n",
      "       -4.72062454e-02, -2.30148580e-04,  1.56766046e-02, -2.32895184e-02,\n",
      "        1.37824276e-02,  2.63817399e-03, -9.69495717e-03, -2.10218802e-02,\n",
      "        1.64095704e-02,  6.74316585e-02,  6.22525178e-02, -1.15467701e-02,\n",
      "       -4.30924073e-03, -5.46096414e-02,  1.58699024e-02,  2.44818106e-02,\n",
      "       -5.92674054e-02, -1.49142900e-02, -6.52694255e-02, -9.52545255e-02,\n",
      "        2.13158187e-02,  1.59439258e-02, -1.72508284e-02, -2.18998678e-02,\n",
      "        7.98772424e-02, -5.24240099e-02,  4.96386550e-02, -1.01370839e-02,\n",
      "       -3.10559273e-02,  5.19269668e-02, -5.86095564e-02, -1.15708634e-02,\n",
      "        9.12045687e-03, -4.39650342e-02,  1.39257349e-02,  6.55313134e-02,\n",
      "        2.44551208e-02, -5.11395782e-02,  2.87704542e-02,  4.26398851e-02,\n",
      "       -5.85478544e-02,  8.83718953e-03, -4.17878218e-02, -1.21002076e-02,\n",
      "       -1.36368098e-02, -3.54010686e-02,  2.62809526e-02, -2.08880920e-02,\n",
      "        6.55140653e-02, -2.24983059e-02, -1.18158795e-02, -9.85576306e-03,\n",
      "       -7.60239130e-03, -1.57721888e-03,  6.24168431e-03, -1.12244161e-02,\n",
      "        3.61923203e-02,  2.60352548e-02,  5.99506237e-02, -4.18271795e-02,\n",
      "       -2.15728022e-03, -2.30612210e-03,  5.18905967e-02,  6.32936927e-03,\n",
      "       -1.61009394e-02,  1.74817145e-02, -3.78181301e-02, -9.93725657e-03,\n",
      "        6.74585160e-03, -7.68679678e-02, -8.56612634e-04, -3.60484943e-02,\n",
      "       -3.47411111e-02,  4.27498221e-02,  4.96845581e-02,  3.91894951e-02,\n",
      "        1.22341467e-02,  3.07354275e-02, -5.20580821e-02,  3.47731188e-02,\n",
      "       -2.35956497e-02, -6.70155883e-02, -2.22311579e-02,  5.07240091e-03,\n",
      "       -6.00598268e-02, -2.16267304e-03,  6.86540976e-02, -1.00227604e-02,\n",
      "       -2.14531608e-02, -3.87805402e-02,  1.63680911e-02,  7.06148297e-02,\n",
      "        4.47051674e-02, -2.20722072e-02, -3.74222100e-02, -3.18161473e-02,\n",
      "        7.20967026e-03,  4.57223952e-02, -1.90056097e-02,  1.42685287e-02,\n",
      "        2.23021000e-03, -2.96606049e-02, -2.07539015e-02, -2.32861266e-02,\n",
      "       -2.72728633e-02,  3.36867012e-02, -3.21327001e-02,  5.00471040e-04,\n",
      "        2.07242020e-03, -2.62663607e-03, -3.78702171e-02, -1.70305725e-02,\n",
      "       -8.16983953e-02,  1.04327492e-01,  8.42636544e-03, -7.30243847e-02,\n",
      "        3.09468936e-02, -4.88754548e-03,  7.87259918e-03,  5.33896824e-03,\n",
      "        8.19112211e-02, -8.33074823e-02, -1.26042962e-02, -2.09045969e-02,\n",
      "       -4.20606807e-02,  1.33754564e-02,  1.12316338e-02,  8.79221968e-03,\n",
      "       -9.10025369e-03,  7.75837824e-02,  1.22628286e-02,  4.25345078e-02,\n",
      "       -1.85993109e-02,  3.62931341e-02, -5.20519875e-02,  5.20418137e-02,\n",
      "        2.30667777e-02,  9.36064753e-04, -1.45497043e-02, -4.36120480e-02,\n",
      "        7.15634599e-02,  3.28516923e-02, -2.33913474e-02,  5.72603866e-02,\n",
      "       -5.48690371e-02, -4.20102524e-03,  4.22333702e-02, -1.50792953e-03,\n",
      "       -1.86162759e-02,  1.84625499e-02, -5.33151552e-02, -3.51764262e-02,\n",
      "       -7.61713609e-02,  4.62095961e-02, -7.27275014e-02,  3.31947431e-02,\n",
      "        5.62164448e-02, -1.22785866e-02, -2.46030428e-02, -2.04299614e-02,\n",
      "        3.55851762e-02,  1.78635884e-02,  3.60261719e-03, -3.08478568e-02,\n",
      "        3.60951535e-02, -5.61485440e-03, -3.02068498e-02, -7.55724311e-02,\n",
      "        1.32864779e-02, -8.54172837e-03, -6.19617244e-03,  1.56361964e-02,\n",
      "       -3.60098742e-02,  1.02387764e-01,  1.72363445e-02,  2.31081173e-02,\n",
      "       -3.49912159e-02,  1.07610384e-02, -8.33176170e-03, -3.41672152e-02,\n",
      "       -2.81809866e-02,  4.90027070e-02, -2.54521612e-02, -6.45469278e-02,\n",
      "        1.73889045e-02, -2.05194522e-02,  4.27963957e-02,  9.29978502e-04,\n",
      "        3.58979665e-02,  2.43391208e-02,  1.12768002e-02, -7.79160764e-03,\n",
      "       -1.78591888e-02,  1.73917171e-02,  1.09397322e-02, -2.62110424e-03,\n",
      "       -1.34989079e-02, -3.82809639e-02, -3.44480947e-02, -9.77563709e-02,\n",
      "       -3.00887506e-02,  3.13582048e-02,  1.88559238e-02,  1.94010865e-02,\n",
      "       -4.39685322e-02,  6.96976064e-03,  3.07093132e-02, -4.23573293e-02,\n",
      "        6.46124557e-02,  5.28987050e-02,  2.55544786e-03,  4.34446298e-02,\n",
      "        3.13098468e-02,  3.13710533e-02,  3.28402896e-03, -1.90638863e-02,\n",
      "       -3.73117626e-02, -4.75323088e-02, -1.73499284e-03, -2.40166839e-02,\n",
      "        8.53708386e-02, -2.13364847e-02,  2.91513912e-02,  1.47168357e-02,\n",
      "        2.44281278e-03, -4.16225232e-02,  1.05981631e-02, -5.37376851e-02,\n",
      "        2.39222050e-02,  5.02983853e-02, -2.06090827e-02, -5.32662114e-33,\n",
      "        1.65159199e-02,  1.83156144e-03,  3.12817134e-02,  3.96410264e-02,\n",
      "       -3.78300808e-02, -2.90673301e-02, -1.87497176e-02, -8.55024846e-04,\n",
      "       -3.11734751e-02,  7.02632964e-03,  1.48117011e-02,  3.34895053e-03,\n",
      "       -2.01437436e-02,  2.64265225e-03,  1.42482845e-02, -6.67713135e-02,\n",
      "       -2.86638574e-03, -1.64869837e-02, -3.74965258e-02, -2.21251752e-02,\n",
      "       -5.44575937e-02,  1.63192861e-02, -3.16983797e-02,  2.19405368e-02,\n",
      "        2.27628425e-02, -5.77700585e-02, -1.92491561e-02,  4.19505909e-02,\n",
      "       -3.55882905e-02, -6.24724925e-02,  2.50080209e-02, -7.01672537e-03,\n",
      "       -7.94213451e-03, -2.30623353e-02, -1.51336065e-03, -2.27000657e-02,\n",
      "        4.74610589e-02, -5.51841222e-02,  1.10517377e-02,  5.69127239e-02,\n",
      "        4.48056087e-02,  2.42298525e-02,  2.46118009e-02, -8.27899016e-03,\n",
      "       -7.24154385e-03, -4.77017574e-02, -2.84286011e-02,  2.43255682e-02,\n",
      "        1.95517316e-02,  3.42549793e-02, -2.53756624e-02,  5.17658005e-03,\n",
      "        2.46437378e-02, -1.11657873e-01,  4.77198511e-02, -7.49519235e-03,\n",
      "        1.34810479e-02, -2.31335610e-02,  3.45504954e-02,  1.71653032e-02,\n",
      "       -8.18305928e-03,  6.43378962e-03,  3.55202779e-02, -2.33410168e-02,\n",
      "       -1.59238800e-02, -1.66886076e-02,  8.14791303e-03,  3.38793322e-02,\n",
      "       -1.51448594e-02,  1.59803461e-02,  3.77219245e-02,  1.90136116e-02,\n",
      "        3.42250504e-02, -8.57377127e-02,  4.83460054e-02, -1.89517625e-02,\n",
      "        4.47814651e-02,  1.43560357e-02, -4.02980410e-02, -4.67027314e-02,\n",
      "       -2.58804560e-02,  9.74608772e-03,  2.12530810e-02, -3.50948870e-02,\n",
      "        5.56972809e-03, -8.30285326e-02,  4.76219365e-03, -2.61221230e-02,\n",
      "        7.27944169e-03, -6.98276330e-03,  6.34127855e-02, -1.57332309e-02,\n",
      "       -3.45464945e-02,  1.94783229e-02,  9.25310850e-02,  5.60746016e-03,\n",
      "       -2.56344886e-03,  1.22096054e-02, -1.48582476e-04, -3.88639867e-02,\n",
      "        2.81418255e-03,  8.03192779e-02, -2.47098133e-02,  4.23074774e-02,\n",
      "        1.05223479e-02, -1.25476951e-02,  7.70754553e-03,  9.37939435e-03,\n",
      "        2.27835979e-02,  2.38631871e-02,  1.04199527e-02, -3.49064395e-02,\n",
      "        2.75945924e-02,  1.85456965e-02, -1.13136936e-02,  5.48139885e-02,\n",
      "       -2.15319209e-02, -3.26011926e-02,  3.13254483e-02, -2.95483433e-02,\n",
      "       -7.56655261e-02,  7.54357278e-02, -2.66053043e-02,  4.67111692e-02,\n",
      "       -4.51711155e-02, -2.86772102e-02,  6.65898845e-02,  6.83327317e-02,\n",
      "       -5.58281224e-03, -2.70531215e-02, -5.62305972e-02,  4.11020499e-03,\n",
      "        2.87899979e-07, -4.61982563e-02,  1.63320720e-03,  2.56403964e-02,\n",
      "       -2.68343687e-02, -1.28991436e-02, -3.36034857e-02, -9.19510052e-02,\n",
      "       -1.50398370e-02, -1.45538403e-02, -4.16998230e-02,  1.12288622e-02,\n",
      "        5.45754144e-03,  2.05286946e-02,  5.08826561e-02, -9.31166578e-03,\n",
      "       -4.51688142e-03,  5.15564568e-02,  1.35589456e-02, -1.52467713e-02,\n",
      "        1.95817817e-02, -1.15217380e-02,  6.97418628e-03,  8.55400227e-03,\n",
      "        3.88900861e-02, -1.18405772e-02,  5.01606353e-02,  1.86877372e-03,\n",
      "        3.08847092e-02,  2.90372409e-02,  1.46812079e-02, -1.06350787e-01,\n",
      "        5.23184016e-02, -1.52744474e-02,  3.89301889e-02, -3.92493270e-02,\n",
      "        2.59310808e-02,  3.89923342e-02, -1.87067501e-02, -7.83301238e-03,\n",
      "        7.29335621e-02,  3.40449414e-03,  6.62164837e-02,  2.19600759e-02,\n",
      "       -1.33304168e-02, -2.08234917e-02,  4.83077625e-03,  1.60080250e-02,\n",
      "        5.14446571e-02, -2.82307174e-02,  1.11078676e-02,  4.53802869e-02,\n",
      "        2.94687469e-02,  3.10644750e-02,  8.05757532e-04,  1.33231077e-02,\n",
      "        2.72253323e-02, -3.21428813e-02, -6.94837002e-03, -9.26384106e-02,\n",
      "        2.99058780e-02, -4.12807949e-02,  5.91874681e-02,  2.60265172e-03,\n",
      "       -1.44667998e-02, -3.29158083e-03, -1.10163800e-02, -8.58824886e-03,\n",
      "        2.63558369e-34, -2.04985738e-02, -5.03463820e-02, -3.67546640e-02,\n",
      "        3.55621129e-02, -4.28023785e-02, -1.85168255e-02,  4.91005778e-02,\n",
      "        9.84903984e-03, -3.54832201e-03,  4.63012643e-02,  2.16666814e-02],\n",
      "      dtype=float32)}\n"
     ]
    }
   ],
   "source": [
    "record_list = df.to_dict(\"records\")\n",
    "print(record_list[0])"
   ]
  },
  {
   "cell_type": "code",
   "execution_count": 177,
   "metadata": {},
   "outputs": [
    {
     "data": {
      "text/plain": [
       "True"
      ]
     },
     "execution_count": 177,
     "metadata": {},
     "output_type": "execute_result"
    }
   ],
   "source": [
    "es.ping()"
   ]
  },
  {
   "cell_type": "code",
   "execution_count": 178,
   "metadata": {},
   "outputs": [],
   "source": [
    "for record in record_list:\n",
    "    # print(record)\n",
    "    try:\n",
    "        es.index(index='prefinal_try5', document = record)\n",
    "    except Exception as e:\n",
    "        print(e)"
   ]
  },
  {
   "cell_type": "code",
   "execution_count": 179,
   "metadata": {},
   "outputs": [
    {
     "name": "stdout",
     "output_type": "stream",
     "text": [
      "{'count': 1400, '_shards': {'total': 1, 'successful': 1, 'skipped': 0, 'failed': 0}}\n"
     ]
    }
   ],
   "source": [
    "print(es.count(index=\"prefinal_try5\"))"
   ]
  },
  {
   "cell_type": "code",
   "execution_count": 48,
   "metadata": {},
   "outputs": [],
   "source": [
    "def preprocess(input_key):\n",
    "    input_key = input_key.lower()\n",
    "    input_key = input_key.translate(str.maketrans('', '', string.punctuation))\n",
    "    input_key = word_tokenize(input_key)\n",
    "    input_key = [word for word in input_key if word not in stop_words]\n",
    "    input_key = [lemmatizer.lemmatize(word, wordnet.VERB) for word in input_key]\n",
    "    input_key = ' '.join(input_key)\n",
    "    return input_key"
   ]
  },
  {
   "cell_type": "code",
   "execution_count": 136,
   "metadata": {},
   "outputs": [
    {
     "name": "stdout",
     "output_type": "stream",
     "text": [
      "[[156], [666, 667, 1258, 1394, 668, 670, 1204, 1391, 1395, 1300, 37, 559, 630, 1107, 1213], [24, 101, 666, 667, 93, 1258, 1393, 559, 630, 662, 1104, 1107, 1204, 1213, 1300], [1391, 666, 667, 1258, 1078, 1080, 1081, 1394, 1395, 1214, 1198, 1204, 1300, 559, 630, 662, 1107, 1213], [1383, 1385, 155, 241, 1382, 1370, 1386, 111, 1384, 150, 292, 458, 479, 977, 376, 459, 1365, 62, 1366], [155, 1383, 1385, 1382, 62, 292, 241, 1370, 1384, 458, 459, 461, 1386, 1365, 1366, 111, 150, 479], [400, 419, 1387, 412, 1392, 1398, 1397, 1400, 1399], [400, 1387, 1392, 1398], [656, 1313, 1317, 1316, 1318, 1319, 1157, 1274], [1379, 1305, 1304, 40, 293, 1309, 161, 421, 1377, 1378, 1381, 225, 1380, 448, 449, 1124, 1280, 433, 923, 924, 1062, 1074, 1075, 1213]]\n"
     ]
    }
   ],
   "source": [
    "# Initialize an empty 2D list to store the data\n",
    "reldoc = []\n",
    "\n",
    "# Initialize variables to keep track of the current identifier and its associated scores\n",
    "current_identifier = None\n",
    "current_scores = []\n",
    "\n",
    "# Read the data from the text file\n",
    "with open('relevance.txt', 'r') as file:\n",
    "    for line in file:\n",
    "        line = line.strip().split()\n",
    "        identifier = int(line[0])\n",
    "        score = int(line[1])\n",
    "\n",
    "        # Check if the identifier has changed or if it's the first iteration\n",
    "        if identifier != current_identifier or current_identifier is None:\n",
    "            if current_scores:\n",
    "                reldoc.append(current_scores)\n",
    "            current_identifier = identifier\n",
    "            current_scores = [score]\n",
    "        else:\n",
    "            current_scores.append(score)\n",
    "\n",
    "# Add the last set of scores to the 2D list\n",
    "if current_scores:\n",
    "    reldoc.append(current_scores)\n",
    "\n",
    "# Now, data_2d_list contains the 2D list with grouped scores\n",
    "print(reldoc)"
   ]
  },
  {
   "cell_type": "code",
   "execution_count": 161,
   "metadata": {},
   "outputs": [],
   "source": [
    "import time"
   ]
  },
  {
   "cell_type": "code",
   "execution_count": 202,
   "metadata": {},
   "outputs": [
    {
     "name": "stderr",
     "output_type": "stream",
     "text": [
      "C:\\Users\\asus\\AppData\\Local\\Temp\\ipykernel_37984\\2651889315.py:25: ElasticsearchWarning: The kNN search API has been replaced by the `knn` option in the search API.\n",
      "  res = es.knn_search(index = \"prefinal_try4\", knn=query, source=[\"did\",\"text\"])\n"
     ]
    }
   ],
   "source": [
    "mega_ret=[]\n",
    "mega_rel=[]\n",
    "user_query = []\n",
    "mega_slist = []\n",
    "mega_ret2=[]\n",
    "# mega_rel2=[]\n",
    "mega_slist2 = []\n",
    "with open('queries.txt', 'r') as input_file:\n",
    "    with open('preprocessed_sentences.txt', 'w') as output_file:\n",
    "        for line in input_file:\n",
    "            user_query.append(line.strip())\n",
    "            preprocessed_line = preprocess(line)\n",
    "            vector_ik = model.encode(preprocessed_line)\n",
    "\n",
    "            query = {\n",
    "                \"field\":\"TextDescVec\",\n",
    "                \"query_vector\":vector_ik,\n",
    "                \"k\": 10,\n",
    "                \"num_candidates\": 1400,\n",
    "            }\n",
    "\n",
    "            did_list = []\n",
    "            s_list = []\n",
    "            stimeknn = time.time()\n",
    "            res = es.knn_search(index = \"prefinal_try4\", knn=query, source=[\"did\",\"text\"])\n",
    "            etimeknn = time.time()\n",
    "            ttknn = etimeknn - stimeknn\n",
    "            for result in res[\"hits\"][\"hits\"]:\n",
    "                did = result[\"_source\"][\"did\"]\n",
    "                score = result[\"_score\"]\n",
    "                s_list.append(score)\n",
    "                did_list.append(did)\n",
    "\n",
    "            mega_ret.append(did_list)\n",
    "            \n",
    "            avg_score = sum(s_list) / len(s_list)\n",
    "            mega_slist.append(avg_score)\n",
    "\n",
    "            output_file.write(preprocessed_line + '\\n')"
   ]
  },
  {
   "cell_type": "code",
   "execution_count": 203,
   "metadata": {},
   "outputs": [
    {
     "data": {
      "text/plain": [
       "0.03034496307373047"
      ]
     },
     "execution_count": 203,
     "metadata": {},
     "output_type": "execute_result"
    }
   ],
   "source": [
    "ttknn"
   ]
  },
  {
   "cell_type": "code",
   "execution_count": 204,
   "metadata": {},
   "outputs": [],
   "source": [
    "with open('queries.txt', 'r') as input_file:\n",
    "    with open('preprocessed_sentences.txt', 'w') as output_file:\n",
    "        for line in input_file:\n",
    "            preprocessed_line = preprocess(line)\n",
    "\n",
    "            did_list2 = []\n",
    "            s_list2 = []\n",
    "            bm25_query = {\n",
    "                \"query\": {\n",
    "                    \"match\": {\n",
    "                        \"text\": {\n",
    "                            \"query\": preprocessed_line,\n",
    "                            \"analyzer\": \"standard\",  # Use the appropriate analyzer\n",
    "                        }\n",
    "                    }\n",
    "                }\n",
    "            }\n",
    "\n",
    "            stimet = time.time()\n",
    "            res2 = es.search(index=\"prefinal_try5\", body=bm25_query)\n",
    "            etimet = time.time()\n",
    "            ttimet = etimet - stimet\n",
    "\n",
    "            #text based\n",
    "            for result2 in res2[\"hits\"][\"hits\"]:\n",
    "                did2 = result2[\"_source\"][\"did\"]\n",
    "                score2 = result2[\"_score\"]\n",
    "                s_list2.append(score2)\n",
    "                did_list2.append(did2)\n",
    "\n",
    "            mega_ret2.append(did_list2)\n",
    "            \n",
    "            avg_score2 = sum(s_list2) / len(s_list2)\n",
    "            mega_slist2.append(avg_score2)\n",
    "\n",
    "            output_file.write(preprocessed_line + '\\n')"
   ]
  },
  {
   "cell_type": "code",
   "execution_count": 205,
   "metadata": {},
   "outputs": [
    {
     "data": {
      "text/plain": [
       "0.01563715934753418"
      ]
     },
     "execution_count": 205,
     "metadata": {},
     "output_type": "execute_result"
    }
   ],
   "source": [
    "ttimet"
   ]
  },
  {
   "cell_type": "code",
   "execution_count": 206,
   "metadata": {},
   "outputs": [],
   "source": [
    "intersection=[]\n",
    "precision=[]\n",
    "recall=[]\n",
    "for sublist_A, sublist_B in zip(mega_ret, reldoc):\n",
    "    sublist_intersection = list(set(sublist_A) & set(sublist_B))\n",
    "    intersection.append(sublist_intersection)\n",
    "    precision.append(len(sublist_intersection) / len(sublist_A) if len(sublist_A) > 0 else 0)\n",
    "    recall.append(len(sublist_intersection) / len(sublist_B) if len(sublist_B) > 0 else 0)"
   ]
  },
  {
   "cell_type": "code",
   "execution_count": 207,
   "metadata": {},
   "outputs": [],
   "source": [
    "intersection2=[]\n",
    "precision2=[]\n",
    "recall2=[]\n",
    "for sublist_A2, sublist_B2 in zip(mega_ret2, reldoc):\n",
    "    sublist_intersection2 = list(set(sublist_A2) & set(sublist_B2))\n",
    "    intersection2.append(sublist_intersection2)\n",
    "    precision2.append(len(sublist_intersection2) / len(sublist_A2) if len(sublist_A2) > 0 else 0)\n",
    "    recall2.append(len(sublist_intersection2) / len(sublist_B2) if len(sublist_B2) > 0 else 0)"
   ]
  },
  {
   "cell_type": "code",
   "execution_count": 208,
   "metadata": {},
   "outputs": [
    {
     "name": "stdout",
     "output_type": "stream",
     "text": [
      "[[331, 1322, 1321, 506, 64, 848, 764, 114, 71, 1382], [1395, 666, 1179, 283, 1161, 1394, 667, 318, 1006, 626], [1393, 559, 1394, 1395, 283, 154, 1161, 666, 323, 981], [1256, 228, 149, 668, 470, 361, 417, 1085, 128, 1152], [1182, 458, 292, 4, 54, 461, 111, 375, 611, 336], [1182, 1382, 489, 458, 611, 475, 321, 241, 477, 4], [1399, 1396, 1357, 1358, 1400, 400, 419, 863, 1120, 1387], [1399, 400, 1396, 1400, 1357, 1358, 1120, 1387, 863, 1050], [656, 1314, 575, 1230, 1319, 1274, 665, 1157, 318, 1312], [1280, 1188, 1380, 677, 704, 701, 198, 1381, 780, 199]]\n",
      "[[156], [666, 667, 1258, 1394, 668, 670, 1204, 1391, 1395, 1300, 37, 559, 630, 1107, 1213], [24, 101, 666, 667, 93, 1258, 1393, 559, 630, 662, 1104, 1107, 1204, 1213, 1300], [1391, 666, 667, 1258, 1078, 1080, 1081, 1394, 1395, 1214, 1198, 1204, 1300, 559, 630, 662, 1107, 1213], [1383, 1385, 155, 241, 1382, 1370, 1386, 111, 1384, 150, 292, 458, 479, 977, 376, 459, 1365, 62, 1366], [155, 1383, 1385, 1382, 62, 292, 241, 1370, 1384, 458, 459, 461, 1386, 1365, 1366, 111, 150, 479], [400, 419, 1387, 412, 1392, 1398, 1397, 1400, 1399], [400, 1387, 1392, 1398], [656, 1313, 1317, 1316, 1318, 1319, 1157, 1274], [1379, 1305, 1304, 40, 293, 1309, 161, 421, 1377, 1378, 1381, 225, 1380, 448, 449, 1124, 1280, 433, 923, 924, 1062, 1074, 1075, 1213]]\n",
      "[[], [1394, 1395, 667, 666], [1393, 666, 559], [], [458, 292, 111], [241, 458, 1382], [419, 1387, 400, 1399, 1400], [400, 1387], [656, 1274, 1157, 1319], [1280, 1380, 1381]]\n",
      "[0.0, 0.4, 0.3, 0.0, 0.3, 0.3, 0.5, 0.2, 0.4, 0.3]\n",
      "[0.0, 0.26666666666666666, 0.2, 0.0, 0.15789473684210525, 0.16666666666666666, 0.5555555555555556, 0.5, 0.5, 0.125]\n",
      "['what investigations have been made of the wave system created by a static pressure distribution over a liquid surface .', 'has anyone investigated the effect of shock generated vorticity on heat transfer to a blunt body .', 'what is the heat transfer to a blunt body in the absence of vorticity .', 'what are the general effects on flow fields when the reynolds number is small .', 'find a calculation procedure applicable to all incompressible laminar boundary layer flow problems having good accuracy and reasonable computation time .', 'papers applicable to this problem (calculation procedures for laminar incompressible flow with arbitrary pressure gradient) .', 'has anyone investigated the shear buckling of stiffened plates .', 'papers on shear buckling of unstiffened rectangular plates under shear .', 'in practice, how close to reality are the assumptions that the flow in a hypersonic shock tube using nitrogen is non-viscous and in thermodynamic equilibrium .', 'what design factors can be used to control lift-drag ratios at mach numbers above 5 .']\n",
      "[0.748128202, 0.8402053219999999, 0.8043980239999999, 0.7397722440000001, 0.8632085100000001, 0.824990942, 0.8151765099999999, 0.8189667789999998, 0.869215009, 0.776384097]\n"
     ]
    }
   ],
   "source": [
    "print(mega_ret)\n",
    "print(reldoc)\n",
    "print(intersection)\n",
    "print(precision)\n",
    "print(recall)\n",
    "print(user_query)\n",
    "print(mega_slist)"
   ]
  },
  {
   "cell_type": "code",
   "execution_count": 209,
   "metadata": {},
   "outputs": [
    {
     "name": "stdout",
     "output_type": "stream",
     "text": [
      "[[1319, 39, 693, 1274, 958, 974, 407, 1225, 344, 175], [666, 983, 1263, 323, 559, 1319, 1274, 1002, 334, 37], [559, 154, 323, 553, 666, 983, 1104, 1263, 295, 655], [1221, 208, 1222, 992, 993, 299, 73, 7, 315, 1082], [1375, 292, 458, 231, 527, 1261, 261, 461, 1268, 1241], [1366, 1386, 458, 662, 1182, 73, 489, 1375, 653, 388], [1130, 419, 1399, 1400, 400, 1050, 887, 1048, 1396, 1070], [1399, 400, 1398, 419, 1400, 1387, 1396, 1008, 1050, 1048], [1312, 656, 259, 575, 317, 170, 236, 1316, 36, 1157], [1188, 1380, 225, 638, 1345, 1349, 213, 1291, 748, 77]]\n",
      "[[156], [666, 667, 1258, 1394, 668, 670, 1204, 1391, 1395, 1300, 37, 559, 630, 1107, 1213], [24, 101, 666, 667, 93, 1258, 1393, 559, 630, 662, 1104, 1107, 1204, 1213, 1300], [1391, 666, 667, 1258, 1078, 1080, 1081, 1394, 1395, 1214, 1198, 1204, 1300, 559, 630, 662, 1107, 1213], [1383, 1385, 155, 241, 1382, 1370, 1386, 111, 1384, 150, 292, 458, 479, 977, 376, 459, 1365, 62, 1366], [155, 1383, 1385, 1382, 62, 292, 241, 1370, 1384, 458, 459, 461, 1386, 1365, 1366, 111, 150, 479], [400, 419, 1387, 412, 1392, 1398, 1397, 1400, 1399], [400, 1387, 1392, 1398], [656, 1313, 1317, 1316, 1318, 1319, 1157, 1274], [1379, 1305, 1304, 40, 293, 1309, 161, 421, 1377, 1378, 1381, 225, 1380, 448, 449, 1124, 1280, 433, 923, 924, 1062, 1074, 1075, 1213]]\n",
      "[[], [666, 37, 559], [1104, 666, 559], [], [458, 292], [1366, 458, 1386], [400, 419, 1400, 1399], [400, 1387, 1398], [656, 1316, 1157], [225, 1380]]\n",
      "[0.0, 0.3, 0.3, 0.0, 0.2, 0.3, 0.4, 0.3, 0.3, 0.2]\n",
      "[0.0, 0.2, 0.2, 0.0, 0.10526315789473684, 0.16666666666666666, 0.4444444444444444, 0.75, 0.375, 0.08333333333333333]\n",
      "['what investigations have been made of the wave system created by a static pressure distribution over a liquid surface .', 'has anyone investigated the effect of shock generated vorticity on heat transfer to a blunt body .', 'what is the heat transfer to a blunt body in the absence of vorticity .', 'what are the general effects on flow fields when the reynolds number is small .', 'find a calculation procedure applicable to all incompressible laminar boundary layer flow problems having good accuracy and reasonable computation time .', 'papers applicable to this problem (calculation procedures for laminar incompressible flow with arbitrary pressure gradient) .', 'has anyone investigated the shear buckling of stiffened plates .', 'papers on shear buckling of unstiffened rectangular plates under shear .', 'in practice, how close to reality are the assumptions that the flow in a hypersonic shock tube using nitrogen is non-viscous and in thermodynamic equilibrium .', 'what design factors can be used to control lift-drag ratios at mach numbers above 5 .']\n",
      "[11.6633645, 13.5504487, 11.193098299999999, 10.486773399999999, 16.5830184, 13.406789499999999, 14.179004150000003, 18.2663721, 15.998343899999998, 14.53256835]\n"
     ]
    }
   ],
   "source": [
    "print(mega_ret2)\n",
    "print(reldoc)\n",
    "print(intersection2)\n",
    "print(precision2)\n",
    "print(recall2)\n",
    "print(user_query)\n",
    "print(mega_slist2)"
   ]
  },
  {
   "cell_type": "code",
   "execution_count": 210,
   "metadata": {},
   "outputs": [
    {
     "data": {
      "text/plain": [
       "[1395, 666, 1179, 283, 1161, 1394, 667, 318, 1006, 626]"
      ]
     },
     "execution_count": 210,
     "metadata": {},
     "output_type": "execute_result"
    }
   ],
   "source": [
    "mega_ret[1]"
   ]
  },
  {
   "cell_type": "code",
   "execution_count": 211,
   "metadata": {},
   "outputs": [
    {
     "name": "stdout",
     "output_type": "stream",
     "text": [
      "[1395]\n",
      "[666, 1395]\n",
      "[666, 1395]\n",
      "[666, 1395]\n",
      "[666, 1395]\n",
      "[1394, 1395, 666]\n",
      "[1394, 1395, 667, 666]\n",
      "[1394, 1395, 667, 666]\n",
      "[1394, 1395, 667, 666]\n",
      "[1394, 1395, 667, 666]\n"
     ]
    }
   ],
   "source": [
    "# intersectionq3=[]\n",
    "precisionq3=[]\n",
    "recallq3=[]\n",
    "newlist=[]\n",
    "sublist_Aq3=mega_ret[1]\n",
    "sublist_Bq3=reldoc[1]\n",
    "for i in sublist_Aq3:\n",
    "    newlist.append(i)\n",
    "    intersectionq3 = list(set(newlist) & set(sublist_Bq3))\n",
    "    print(intersectionq3)\n",
    "    precisionq3.append(len(intersectionq3) / len(newlist) if len(newlist) > 0 else 0)\n",
    "    recallq3.append(len(intersectionq3) / len(sublist_Bq3) if len(sublist_Bq3) > 0 else 0)"
   ]
  },
  {
   "cell_type": "code",
   "execution_count": 212,
   "metadata": {},
   "outputs": [
    {
     "name": "stdout",
     "output_type": "stream",
     "text": [
      "[666]\n",
      "[666]\n",
      "[666]\n",
      "[666]\n",
      "[666, 559]\n",
      "[666, 559]\n",
      "[666, 559]\n",
      "[666, 559]\n",
      "[666, 559]\n",
      "[666, 37, 559]\n"
     ]
    }
   ],
   "source": [
    "# intersectionq3=[]\n",
    "precisionq32=[]\n",
    "recallq32=[]\n",
    "newlist2=[]\n",
    "sublist_Aq32=mega_ret2[1]\n",
    "sublist_Bq32=reldoc[1]\n",
    "for i in sublist_Aq32:\n",
    "    newlist2.append(i)\n",
    "    intersectionq32 = list(set(newlist2) & set(sublist_Bq32))\n",
    "    print(intersectionq32)\n",
    "    precisionq32.append(len(intersectionq32) / len(newlist2) if len(newlist2) > 0 else 0)\n",
    "    recallq32.append(len(intersectionq32) / len(sublist_Bq32) if len(sublist_Bq32) > 0 else 0)"
   ]
  },
  {
   "cell_type": "code",
   "execution_count": 213,
   "metadata": {},
   "outputs": [
    {
     "name": "stdout",
     "output_type": "stream",
     "text": [
      "[1.0, 1.0, 0.6666666666666666, 0.5, 0.4, 0.5, 0.5714285714285714, 0.5, 0.4444444444444444, 0.4]\n",
      "[0.06666666666666667, 0.13333333333333333, 0.13333333333333333, 0.13333333333333333, 0.13333333333333333, 0.2, 0.26666666666666666, 0.26666666666666666, 0.26666666666666666, 0.26666666666666666]\n"
     ]
    }
   ],
   "source": [
    "print(precisionq3)\n",
    "print(recallq3)"
   ]
  },
  {
   "cell_type": "code",
   "execution_count": 214,
   "metadata": {},
   "outputs": [
    {
     "name": "stdout",
     "output_type": "stream",
     "text": [
      "[1.0, 0.5, 0.3333333333333333, 0.25, 0.4, 0.3333333333333333, 0.2857142857142857, 0.25, 0.2222222222222222, 0.3]\n",
      "[0.06666666666666667, 0.06666666666666667, 0.06666666666666667, 0.06666666666666667, 0.13333333333333333, 0.13333333333333333, 0.13333333333333333, 0.13333333333333333, 0.13333333333333333, 0.2]\n"
     ]
    }
   ],
   "source": [
    "print(precisionq32)\n",
    "print(recallq32)"
   ]
  },
  {
   "cell_type": "code",
   "execution_count": 215,
   "metadata": {},
   "outputs": [],
   "source": [
    "import csv\n",
    "csv_file = 'output_prefinal4_q3.csv'\n",
    "\n",
    "# Combine the lists into a list of rows\n",
    "data = list(zip(precisionq3, recallq3))\n",
    "\n",
    "# Write the data to a CSV file\n",
    "with open(csv_file, 'w', newline='') as file:\n",
    "    writer = csv.writer(file)\n",
    "    writer.writerow(['Precision_q3', 'Recall_q3'])  # Write header\n",
    "    writer.writerows(data)"
   ]
  },
  {
   "cell_type": "code",
   "execution_count": 216,
   "metadata": {},
   "outputs": [],
   "source": [
    "import csv\n",
    "csv_file = 'output_prefinal4_q32.csv'\n",
    "\n",
    "# Combine the lists into a list of rows\n",
    "data2 = list(zip(precisionq32, recallq32))\n",
    "\n",
    "# Write the data to a CSV file\n",
    "with open(csv_file, 'w', newline='') as file2:\n",
    "    writer = csv.writer(file2)\n",
    "    writer.writerow(['Precision_q32', 'Recall_q32'])  # Write header\n",
    "    writer.writerows(data2)"
   ]
  },
  {
   "cell_type": "code",
   "execution_count": 218,
   "metadata": {},
   "outputs": [],
   "source": [
    "import csv\n",
    "csv_file = 'output_prefinal4.csv'\n",
    "\n",
    "# Combine the lists into a list of rows\n",
    "data = list(zip(user_query, precision, recall, mega_slist))\n",
    "\n",
    "# Write the data to a CSV file\n",
    "with open(csv_file, 'w', newline='') as file:\n",
    "    writer = csv.writer(file)\n",
    "    writer.writerow(['Query', 'Precision', 'Recall', 'Score'])  # Write header\n",
    "    writer.writerows(data)"
   ]
  },
  {
   "cell_type": "code",
   "execution_count": 219,
   "metadata": {},
   "outputs": [],
   "source": [
    "import csv\n",
    "csv_file = 'output_prefinal42.csv'\n",
    "\n",
    "# Combine the lists into a list of rows\n",
    "data22 = list(zip(user_query, precision2, recall2, mega_slist2))\n",
    "\n",
    "# Write the data to a CSV file\n",
    "with open(csv_file, 'w', newline='') as file2:\n",
    "    writer = csv.writer(file2)\n",
    "    writer.writerow(['Query', 'Precision', 'Recall', 'Score'])  # Write header\n",
    "    writer.writerows(data22)"
   ]
  },
  {
   "cell_type": "code",
   "execution_count": null,
   "metadata": {},
   "outputs": [],
   "source": [
    "print(\"Mean Average Precision: 0.27\")\n",
    "print(\"NDCG: \")"
   ]
  },
  {
   "cell_type": "code",
   "execution_count": null,
   "metadata": {},
   "outputs": [],
   "source": [
    "from math import log2\n",
    "def ndcg(relevant_docs, retrieved_docs, k):\n",
    "    ideal_ordering = sorted(relevant_docs, reverse=True)\n",
    "    dcg = 0.0\n",
    "    idcg = 0.0\n",
    "    for i in range(k):\n",
    "        if i < len(retrieved_docs):\n",
    "            if retrieved_docs[i] in relevant_docs:\n",
    "                dcg += 1 / (log2(i + 2))\n",
    "            if i < len(ideal_ordering):\n",
    "                idcg += 1 / (log2(i + 2))\n",
    "    return dcg / idcg"
   ]
  },
  {
   "cell_type": "code",
   "execution_count": 225,
   "metadata": {},
   "outputs": [
    {
     "name": "stdout",
     "output_type": "stream",
     "text": [
      "Query: what investigations have been made of the wave system created by a static pressure distribution over a liquid surface .\n",
      "Precision@10: 0.00\n",
      "Recall@10: 0.00\n",
      "Average Precision: 0.00\n",
      "NDCG@10: 0.00\n",
      "\n",
      "Query: has anyone investigated the effect of shock generated vorticity on heat transfer to a blunt body .\n",
      "Precision@10: 0.30\n",
      "Recall@10: 0.20\n",
      "Average Precision: 0.11\n",
      "NDCG@10: 0.37\n",
      "\n",
      "Query: what is the heat transfer to a blunt body in the absence of vorticity .\n",
      "Precision@10: 0.30\n",
      "Recall@10: 0.20\n",
      "Average Precision: 0.12\n",
      "NDCG@10: 0.38\n",
      "\n",
      "Query: what are the general effects on flow fields when the reynolds number is small .\n",
      "Precision@10: 0.00\n",
      "Recall@10: 0.00\n",
      "Average Precision: 0.00\n",
      "NDCG@10: 0.00\n",
      "\n",
      "Query: find a calculation procedure applicable to all incompressible laminar boundary layer flow problems having good accuracy and reasonable computation time .\n",
      "Precision@10: 0.20\n",
      "Recall@10: 0.11\n",
      "Average Precision: 0.06\n",
      "NDCG@10: 0.25\n",
      "\n",
      "Query: papers applicable to this problem (calculation procedures for laminar incompressible flow with arbitrary pressure gradient) .\n",
      "Precision@10: 0.30\n",
      "Recall@10: 0.17\n",
      "Average Precision: 0.17\n",
      "NDCG@10: 0.47\n",
      "\n",
      "Query: has anyone investigated the shear buckling of stiffened plates .\n",
      "Precision@10: 0.40\n",
      "Recall@10: 0.44\n",
      "Average Precision: 0.30\n",
      "NDCG@10: 0.46\n",
      "\n",
      "Query: papers on shear buckling of unstiffened rectangular plates under shear .\n",
      "Precision@10: 0.30\n",
      "Recall@10: 0.75\n",
      "Average Precision: 0.42\n",
      "NDCG@10: 0.58\n",
      "\n",
      "Query: in practice, how close to reality are the assumptions that the flow in a hypersonic shock tube using nitrogen is non-viscous and in thermodynamic equilibrium .\n",
      "Precision@10: 0.30\n",
      "Recall@10: 0.38\n",
      "Average Precision: 0.13\n",
      "NDCG@10: 0.31\n",
      "\n",
      "Query: what design factors can be used to control lift-drag ratios at mach numbers above 5 .\n",
      "Precision@10: 0.20\n",
      "Recall@10: 0.08\n",
      "Average Precision: 0.05\n",
      "NDCG@10: 0.25\n",
      "\n",
      "Mean Average Precision (MAP): 0.14\n"
     ]
    }
   ],
   "source": [
    "from math import log2\n",
    "\n",
    "def precision_at_k(relevant_docs, retrieved_docs, k):\n",
    "    intersection = set(retrieved_docs[:k]) & set(relevant_docs)\n",
    "    return len(intersection) / k\n",
    "\n",
    "def recall_at_k(relevant_docs, retrieved_docs, k):\n",
    "    intersection = set(retrieved_docs[:k]) & set(relevant_docs)\n",
    "    return len(intersection) / len(relevant_docs)\n",
    "\n",
    "def average_precision(relevant_docs, retrieved_docs):\n",
    "    avg_precision = 0.0\n",
    "    num_relevant = len(relevant_docs)\n",
    "    if num_relevant == 0:\n",
    "        return 0.0\n",
    "\n",
    "    for i, doc in enumerate(retrieved_docs):\n",
    "        if doc in relevant_docs:\n",
    "            precision_at_i = precision_at_k(relevant_docs, retrieved_docs, i + 1)\n",
    "            avg_precision += precision_at_i\n",
    "\n",
    "    avg_precision /= num_relevant\n",
    "    return avg_precision\n",
    "\n",
    "def mean_average_precision(queries, results):\n",
    "    total_avg_precision = 0.0\n",
    "    for query, relevant_docs, retrieved_docs in zip(queries, results['relevant_docs'], results['retrieved_docs']):\n",
    "        avg_precision = average_precision(relevant_docs, retrieved_docs)\n",
    "        total_avg_precision += avg_precision\n",
    "    return total_avg_precision / len(queries)\n",
    "\n",
    "def ndcg(relevant_docs, retrieved_docs, k):\n",
    "    ideal_ordering = sorted(relevant_docs, reverse=True)\n",
    "    dcg = 0.0\n",
    "    idcg = 0.0\n",
    "    for i in range(k):\n",
    "        if i < len(retrieved_docs):\n",
    "            if retrieved_docs[i] in relevant_docs:\n",
    "                dcg += 1 / (log2(i + 2))\n",
    "            if i < len(ideal_ordering):\n",
    "                idcg += 1 / (log2(i + 2))\n",
    "    return dcg / idcg\n",
    "\n",
    "# Example data: Replace with your own data\n",
    "queries = user_query\n",
    "# results = {\n",
    "#     \"relevant_docs\": reldoc,\n",
    "#     \"retrieved_docs\": mega_ret\n",
    "# }\n",
    "\n",
    "results = {\n",
    "    \"relevant_docs\": reldoc,\n",
    "    \"retrieved_docs\": mega_ret2\n",
    "}\n",
    "\n",
    "k = 10  # Top K documents to consider\n",
    "\n",
    "# Calculate and print the metrics for each query\n",
    "for query, relevant_docs, retrieved_docs in zip(queries, results['relevant_docs'], results['retrieved_docs']):\n",
    "    precision = precision_at_k(relevant_docs, retrieved_docs, k)\n",
    "    recall = recall_at_k(relevant_docs, retrieved_docs, k)\n",
    "    avg_precision = average_precision(relevant_docs, retrieved_docs)\n",
    "    ndcg_score = ndcg(relevant_docs, retrieved_docs, k)\n",
    "    print(f\"Query: {query}\")\n",
    "    print(f\"Precision@{k}: {precision:.2f}\")\n",
    "    print(f\"Recall@{k}: {recall:.2f}\")\n",
    "    print(f\"Average Precision: {avg_precision:.2f}\")\n",
    "    print(f\"NDCG@{k}: {ndcg_score:.2f}\")\n",
    "    print()\n",
    "    \n",
    "# Calculate and print the Mean Average Precision (MAP)\n",
    "map_score = mean_average_precision(queries, results)\n",
    "print(f\"Mean Average Precision (MAP): {map_score:.2f}\")\n"
   ]
  },
  {
   "cell_type": "code",
   "execution_count": 220,
   "metadata": {},
   "outputs": [
    {
     "data": {
      "image/png": "[encoded data removed]",
      "text/plain": [
       "<Figure size 640x480 with 1 Axes>"
      ]
     },
     "metadata": {},
     "output_type": "display_data"
    }
   ],
   "source": [
    "import matplotlib.pyplot as plt\n",
    "\n",
    "plt.plot(recall, precision)\n",
    "\n",
    "# Add labels and a title\n",
    "plt.xlabel('Recall')\n",
    "plt.ylabel('Precision')\n",
    "plt.title('Plot')\n",
    "\n",
    "# Display the plot\n",
    "plt.show()"
   ]
  },
  {
   "cell_type": "code",
   "execution_count": null,
   "metadata": {},
   "outputs": [],
   "source": [
    "for sublist_"
   ]
  },
  {
   "cell_type": "code",
   "execution_count": 85,
   "metadata": {},
   "outputs": [
    {
     "name": "stderr",
     "output_type": "stream",
     "text": [
      "C:\\Users\\asus\\AppData\\Local\\Temp\\ipykernel_37984\\694889566.py:42: ElasticsearchWarning: The kNN search API has been replaced by the `knn` option in the search API.\n",
      "  res = es.knn_search(index = \"prefinal\", knn=query, source=[\"did\",\"title\",\"text\"])\n"
     ]
    },
    {
     "data": {
      "text/plain": [
       "[{'_index': 'prefinal',\n",
       "  '_id': 'VdrvfosBw2XmKXNEqzY8',\n",
       "  '_score': 0.66882384,\n",
       "  '_source': {'did': 217,\n",
       "   'text': \"the \\n\\nNot Quite the point to be considdered here!\\nFact: If/When Apple release system 7 (or what ever is current at the time \\nof release) then you will see shortly afterwards Apple no longer producing \\nHardware...Look at Next with their NextStep486 to see what happens.\\nWho is going to pay Apples Prices when they can get the same thing cheaper \\nelse where! (Heck we can get a Sun Workstation cheaper than a Quadra, and \\ninfact we have a number of times!!!, it ALL comes down to $$$$)\\n\\nthem,\\nIt\\n\\n\\nNo the continued develeopment is because there is becomming less and less \\nprofit in Hardware, So the Next Step (no pun intended...well sort of), is \\nto make the money in software (look at Microsoft if you think it can't \\nhappen!), after all you can sell multiple pieces of software to ONE \\nhardware platform.\\n\\nAs you also said Windows is a nightmare for programmers, so will the \\ntemptation to sell system 7 to a couple of MILLION dos users be too much \\nfor Apple! (50 million copies @ $100 is SERIOUS money!).\\n\\n--\\n\",\n",
       "   'title': 'comp.sys.mac.hardware'}},\n",
       " {'_index': 'prefinal',\n",
       "  '_id': 'ctrvfosBw2XmKXNEpzUr',\n",
       "  '_score': 0.6427621,\n",
       "  '_source': {'did': 7435,\n",
       "   'text': 'The idea here is to list pointless options. You know, stuff you\\nget on a car that has no earthly use?\\n\\n\\n1) Power windows\\n\\n\\n\\nAdd as you wish...\\n\\nRegards, Charles',\n",
       "   'title': 'rec.autos'}},\n",
       " {'_index': 'prefinal',\n",
       "  '_id': '1NrvfosBw2XmKXNEsjdC',\n",
       "  '_score': 0.6337203,\n",
       "  '_source': {'did': 7793,\n",
       "   'text': 'A SIMM is a small PCB with DRAM chips soldered on.\\n\\n--maarten',\n",
       "   'title': 'comp.sys.mac.hardware'}},\n",
       " {'_index': 'prefinal',\n",
       "  '_id': 'utrvfosBw2XmKXNEsTfT',\n",
       "  '_score': 0.6271056,\n",
       "  '_source': {'did': 7296,\n",
       "   'text': '\\nExcuse me but... have not all Macs got a CPU!!!',\n",
       "   'title': 'comp.sys.mac.hardware'}},\n",
       " {'_index': 'prefinal',\n",
       "  '_id': '0NrvfosBw2XmKXNEsjc4',\n",
       "  '_score': 0.6241682,\n",
       "  '_source': {'did': 7696,\n",
       "   'text': '\\n\\nF A Q !\\n\\nReference:\\nNewsgroups: comp.sys.mac.apps,comp.sys.mac.misc,comp.sys.mac.system,\\n\\tcomp.sys.mac.wanted,comp.sys.mac.hardware,comp.answers,news.answers\\nSubject: Introductory Macintosh frequently asked questions (FAQ)',\n",
       "   'title': 'comp.sys.mac.hardware'}},\n",
       " {'_index': 'prefinal',\n",
       "  '_id': 'XNrvfosBw2XmKXNEsDcJ',\n",
       "  '_score': 0.6220046,\n",
       "  '_source': {'did': 5530,\n",
       "   'text': 'completely\\never be\\nis \\ndifference\\netc....',\n",
       "   'title': 'comp.sys.mac.hardware'}},\n",
       " {'_index': 'prefinal',\n",
       "  '_id': 'ZNrvfosBw2XmKXNEqzaB',\n",
       "  '_score': 0.61564195,\n",
       "  '_source': {'did': 428,\n",
       "   'text': 'this is a test\\n \\n',\n",
       "   'title': 'comp.sys.mac.hardware'}},\n",
       " {'_index': 'prefinal',\n",
       "  '_id': 'strvfosBw2XmKXNErDbq',\n",
       "  '_score': 0.6155518,\n",
       "  '_source': {'did': 2088,\n",
       "   'text': \"\\n\\n\\n\\n\\n\\n\\nSo patch the ROMs with the latest OS version.  I don't see\\nhow this is a problem.\\n\\n\",\n",
       "   'title': 'comp.sys.mac.hardware'}},\n",
       " {'_index': 'prefinal',\n",
       "  '_id': 'bdrvfosBw2XmKXNEojQQ',\n",
       "  '_score': 0.60957336,\n",
       "  '_source': {'did': 1825,\n",
       "   'text': '                    ^^^^^^^\\nHuh!  I though Beamers were IBM employees :-)',\n",
       "   'title': 'rec.autos'}},\n",
       " {'_index': 'prefinal',\n",
       "  '_id': '49rvfosBw2XmKXNEqTUz',\n",
       "  '_score': 0.6061904,\n",
       "  '_source': {'did': 9341,\n",
       "   'text': 'Could we plase cease this discussion.  I fail to see why people feel the need \\nto expound upon this issue for days and days on end.  These areas are not meant for this type of discussion.  If you feel the need to do such things, please\\ntake your thought elsewhere.  Thanks.',\n",
       "   'title': 'rec.autos'}}]"
      ]
     },
     "execution_count": 85,
     "metadata": {},
     "output_type": "execute_result"
    }
   ],
   "source": [
    "input_key = \"windows is a operating system\"\n",
    "# input_key = input_key.lower()\n",
    "\n",
    "# 2. Remove punctuation\n",
    "# input_key = input_key.translate(str.maketrans('', '', string.punctuation))\n",
    "\n",
    "# 3. Tokenization\n",
    "# input_key = word_tokenize(input_key)\n",
    "\n",
    "\n",
    "# input_key = [word for word in input_key if word not in stop_words]\n",
    "\n",
    "# # 5. Lemmatization\n",
    "# # nltk.download('wordnet')\n",
    "# # lemmatizer = WordNetLemmatizer()\n",
    "# input_key = [lemmatizer.lemmatize(word, wordnet.VERB) for word in input_key]\n",
    "\n",
    "# You can add additional steps based on your specific requirements like removing digits, handling special characters, etc.\n",
    "\n",
    "# Optionally, if you want to join the list of tokens back to a string:\n",
    "# input_key = ' '.join(input_key)\n",
    "# print(input_key)\n",
    "\n",
    "\n",
    "\n",
    "\n",
    "\n",
    "\n",
    "vector_ik = model.encode(input_key)\n",
    "\n",
    "query = {\n",
    "    \"field\":\"TextDescVec\",\n",
    "    \"query_vector\":vector_ik,\n",
    "    \"k\": 10,\n",
    "    \"num_candidates\": 500,\n",
    "}\n",
    "did_list = []\n",
    "\n",
    "# Iterate through the search results and extract 'did' values\n",
    "\n",
    "\n",
    "res = es.knn_search(index = \"prefinal\", knn=query, source=[\"did\",\"title\",\"text\"])\n",
    "# for result in res[\"hits\"][\"hits\"]:\n",
    "#     did = result[\"_source\"][\"did\"]\n",
    "#     did_list.append(did)\n",
    "# print(did_list)\n",
    "res[\"hits\"][\"hits\"]"
   ]
  }
 ],
 "metadata": {
  "kernelspec": {
   "display_name": "Python 3 (ipykernel)",
   "language": "python",
   "name": "python3"
  },
  "language_info": {
   "codemirror_mode": {
    "name": "ipython",
    "version": 3
   },
   "file_extension": ".py",
   "mimetype": "text/x-python",
   "name": "python",
   "nbconvert_exporter": "python",
   "pygments_lexer": "ipython3",
   "version": "3.11.4"
  }
 },
 "nbformat": 4,
 "nbformat_minor": 2
}
